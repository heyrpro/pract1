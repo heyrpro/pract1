{
 "cells": [
  {
   "cell_type": "markdown",
   "metadata": {},
   "source": [
    "Вы работаете секретарем и вам постоянно приходят различные документы. Вы должны быть очень внимательны, чтобы не потерять ни один документ. Каталог документов хранится в следующем виде:"
   ]
  },
  {
   "cell_type": "code",
   "execution_count": 1,
   "metadata": {},
   "outputs": [],
   "source": [
    "documents = [\n",
    "    {'type': 'passport', 'number': '2207 876234', 'name': 'Василий Гупкин'},\n",
    "    {'type': 'invoice', 'number': '11-2', 'name': 'Геннадий Покемонов'},\n",
    "    {'type': 'insurance', 'number': '10006', 'name': 'Аристарх Павлов'}\n",
    "]"
   ]
  },
  {
   "cell_type": "code",
   "execution_count": 9,
   "metadata": {},
   "outputs": [],
   "source": [
    "def print_documents(documents):\n",
    "    for doc in documents:\n",
    "        print(doc)"
   ]
  },
  {
   "cell_type": "markdown",
   "metadata": {},
   "source": [
    "Перечень полок, на которых находятся документы хранится в следующем виде:"
   ]
  },
  {
   "cell_type": "code",
   "execution_count": 3,
   "metadata": {},
   "outputs": [],
   "source": [
    "directories = {\n",
    "    '1': ['2207 876234', '11-2'],\n",
    "    '2': ['10006'],\n",
    "    '3': []\n",
    "}"
   ]
  },
  {
   "cell_type": "code",
   "execution_count": 4,
   "metadata": {},
   "outputs": [],
   "source": [
    "def print_directories(directories):\n",
    "    for key,value in directories.items():\n",
    "        print(key,value)"
   ]
  },
  {
   "cell_type": "markdown",
   "metadata": {},
   "source": [
    "Необходимо реализовать пользовательские команды (внимание! это не название функций, которые должны быть выразительными, а команды, которые вводит пользователь, чтобы получить необходимый результат):\n",
    "\n",
    "* p – people – команда, которая спросит номер документа и выведет имя человека, которому он принадлежит;\n",
    "* s – shelf – команда, которая спросит номер документа и выведет номер полки, на которой он находится\n",
    "Правильно обработайте ситуации, когда пользователь будет вводить несуществующий документ.\n",
    "* l – list – команда, которая выведет список всех документов в формате\n",
    "**passport \"2207 876234\" \"Василий Гупкин\"**\n",
    "* as – add shelf – команда, которая спросит номер новой полки и добавит ее в перечень. Предусмотрите случай, когда пользователь добавляет полку, которая уже существует.\n",
    "* d – delete – команда, которая спросит номер документа и удалит его из каталога и из перечня полок. Предусмотрите сценарий, когда пользователь вводит несуществующий документ;\n",
    "* m – move – команда, которая спросит номер документа и целевую полку и переместит его с текущей полки на целевую. Корректно обработайте кейсы, когда пользователь пытается переместить несуществующий документ или переместить документ на несуществующую полку;\n",
    "*  add – команда, которая добавит новый документ в каталог и в перечень полок, спросив его номер, тип, имя владельца и номер полки, на котором он будет храниться. Корректно обработайте ситуацию, когда пользователь будет пытаться добавить документ на несуществующую полку."
   ]
  },
  {
   "cell_type": "code",
   "execution_count": 5,
   "metadata": {},
   "outputs": [
    {
     "name": "stdout",
     "output_type": "stream",
     "text": [
      "\n",
      "   Введите одну из команд: p, l, s, a, d, m, as. \n",
      "   Введите exit чтобы выйти \n",
      "   Ваша команда: add\n",
      "Введите тип докемента: passport\n",
      "Введите номер документа: 2106 789453\n",
      "Введите имя владельца документа: Курилов Андрей\n",
      "Введит номер полки dict_keys(['1', '2', '3']) : 1\n",
      "\n",
      "   Введите одну из команд: p, l, s, a, d, m, as. \n",
      "   Введите exit чтобы выйти \n",
      "   Ваша команда: exit\n"
     ]
    }
   ],
   "source": [
    "def people(numbers):\n",
    "  for doc_numbers in documents:\n",
    "    if doc_numbers[\"number\"] == numbers:\n",
    "      print(doc_numbers[\"name\"])\n",
    "      break\n",
    "  else:\n",
    "    print('Такого номера документа нет в базе.')\n",
    "\n",
    "def llist():\n",
    "  for persons in documents:\n",
    "    print(persons['type'], '\"'+persons['number']+'\"', '\"'+persons['name']+'\"')\n",
    "    \n",
    "def shelf(numbers):\n",
    "  break_marker = False\n",
    "  for shelf_directories in directories.items():\n",
    "    for doc_numbers in shelf_directories[1]:\n",
    "      if doc_numbers == numbers:\n",
    "        print('Данный документ должен лежать на полке', shelf_directories[0])\n",
    "        break_marker = True\n",
    "        break\n",
    "    if break_marker == True:\n",
    "      break\n",
    "  else:\n",
    "    print('Такого номера документа нет в базе.')\n",
    "    \n",
    "def add_command(params_type, number, name, directories_number):\n",
    "  if int(directories_number) == 1 or int(directories_number) == 2 or int(directories_number) == 3:\n",
    "    documents.append({\"type\": params_type, \"number\": number, \"name\": name})\n",
    "    directories[directories_number].append(number)\n",
    "  else:\n",
    "    print('Введенной полки не существует. Запись не осуществлена.')\n",
    "def delete(doc_number):\n",
    "    initial_len = len(documents)\n",
    "    for i, d in enumerate(documents):\n",
    "        if d[\"number\"] == doc_number:\n",
    "            documents.pop(i)\n",
    "\n",
    "    if initial_len == len(documents):\n",
    "        return \"Документ не существует\"\n",
    "\n",
    "    for key, value in directories.items():\n",
    "        if doc_number in value:\n",
    "            value.remove(doc_number)\n",
    "\n",
    "    return \"Документ успешно удален\"\n",
    "\n",
    "\n",
    "def move(doc_number, shelf_id):\n",
    "    doc_existence = False\n",
    "\n",
    "    if shelf_id not in directories:\n",
    "        return \"Полки не существует\"\n",
    "  \n",
    "    for key, value in directories.items():\n",
    "        if doc_number in value:\n",
    "            doc_existence = True\n",
    "            directories[shelf_id] += [doc_number]\n",
    "            value.remove(doc_number)\n",
    "\n",
    "    if doc_existence:\n",
    "        return \"Документ успешно перемещен\"\n",
    "    else :\n",
    "        return \"Документ не существует\"\n",
    "def add(doc_type, doc_number, doc_owner, shelf_id):\n",
    "    if shelf_id not in directories:\n",
    "        return \"Полки не существует\"\n",
    "    new_doc = dict(type=doc_type, number=doc_number, name=doc_owner)\n",
    "    documents.append(new_doc)\n",
    "    directories[shelf_id] += [doc_number]\n",
    "\n",
    "    return \"Документ успешно добавлен\"\n",
    "  \n",
    "      \n",
    "      \n",
    "while True:\n",
    "  command = input('\\n \\\n",
    "  Введите одну из команд: p, l, s, a, d, m, as. \\n \\\n",
    "  Введите exit чтобы выйти \\n \\\n",
    "  Ваша команда: ')\n",
    "  if command == 'p':\n",
    "    people(input('\\nВведите номер документа:'))\n",
    "  elif command == 'l':\n",
    "    llist()\n",
    "  elif command == 's':\n",
    "    shelf(input('\\nВведите номер документа:'))\n",
    "  elif command == 'as':\n",
    "    add_command(input('\\nВведите тип документа:'), input('Введите номер документа:'), input('Введите имя:'), input('Введите номер полки (1, 2, 3):'))\n",
    "  elif command == 'd':\n",
    "    delete(input('\\nВведите номер документа:'))\n",
    "  elif command == 'm':\n",
    "    move(input('\\nВведите номер документа:'))\n",
    "  elif command == 'add':   \n",
    "    doc_type = input(\"Введите тип докемента: \")\n",
    "    doc_number = input(\"Введите номер документа: \")\n",
    "    doc_owner = input(\"Введите имя владельца документа: \")\n",
    "    shelf_id = input(\"Введит номер полки {} : \".format(directories.keys()))\n",
    "    add(doc_type,    doc_number,  doc_owner,  shelf_id )\n",
    "  elif command == 'exit':\n",
    "    break\n",
    "    \n",
    "  else:\n",
    "    print('Вы ввели некорректную команду, повторите ввод.')"
   ]
  },
  {
   "cell_type": "code",
   "execution_count": 11,
   "metadata": {},
   "outputs": [
    {
     "name": "stdout",
     "output_type": "stream",
     "text": [
      "{'type': 'passport', 'number': '2207 876234', 'name': 'Василий Гупкин'}\n",
      "{'type': 'invoice', 'number': '11-2', 'name': 'Геннадий Покемонов'}\n",
      "{'type': 'insurance', 'number': '10006', 'name': 'Аристарх Павлов'}\n",
      "{'type': 'passport', 'number': '2106 789453', 'name': 'Курилов Андрей'}\n"
     ]
    }
   ],
   "source": [
    "print_documents(documents)\n"
   ]
  },
  {
   "cell_type": "code",
   "execution_count": null,
   "metadata": {},
   "outputs": [],
   "source": []
  }
 ],
 "metadata": {
  "kernelspec": {
   "display_name": "Python 3",
   "language": "python",
   "name": "python3"
  },
  "language_info": {
   "codemirror_mode": {
    "name": "ipython",
    "version": 3
   },
   "file_extension": ".py",
   "mimetype": "text/x-python",
   "name": "python",
   "nbconvert_exporter": "python",
   "pygments_lexer": "ipython3",
   "version": "3.8.3"
  }
 },
 "nbformat": 4,
 "nbformat_minor": 4
}
